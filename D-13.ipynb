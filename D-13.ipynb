{
 "cells": [
  {
   "cell_type": "markdown",
   "id": "2e9b4b30",
   "metadata": {},
   "source": [
    "## MACHINE LEARNING MODEL FOR FOOD ADULTERATION ANALYSIS"
   ]
  },
  {
   "cell_type": "code",
   "execution_count": null,
   "id": "cae95320",
   "metadata": {},
   "outputs": [],
   "source": [
    "import warnings\n",
    "warnings.filterwarnings('ignore')\n",
    "import joblib\n",
    "import os\n",
    "import pandas as pd\n",
    "import numpy as np\n",
    "import seaborn as sns\n",
    "import matplotlib.pyplot as plt\n",
    "from sklearn.preprocessing import LabelEncoder\n",
    "from sklearn.model_selection import train_test_split\n",
    "from imblearn.over_sampling import SMOTE\n",
    "from sklearn.preprocessing import StandardScaler\n",
    "from sklearn.utils import resample\n",
    "from sklearn.neighbors import KNeighborsClassifier\n",
    "from sklearn.ensemble import GradientBoostingClassifier\n",
    "from sklearn.metrics import accuracy_score,confusion_matrix,classification_report,precision_score,recall_score,f1_score"
   ]
  },
  {
   "cell_type": "code",
   "execution_count": null,
   "id": "3a4bf683",
   "metadata": {},
   "outputs": [],
   "source": [
    "df=pd.read_csv('D-13 FOOD ADULTERATION.csv')"
   ]
  },
  {
   "cell_type": "code",
   "execution_count": null,
   "id": "bf4b5e04",
   "metadata": {},
   "outputs": [],
   "source": [
    "df.head()"
   ]
  },
  {
   "cell_type": "markdown",
   "id": "3afe7366",
   "metadata": {},
   "source": [
    "## Data preprocessing:"
   ]
  },
  {
   "cell_type": "code",
   "execution_count": null,
   "id": "672d5d72",
   "metadata": {},
   "outputs": [],
   "source": [
    "df.shape"
   ]
  },
  {
   "cell_type": "code",
   "execution_count": null,
   "id": "6e1bdc32",
   "metadata": {},
   "outputs": [],
   "source": [
    "df.info()"
   ]
  },
  {
   "cell_type": "code",
   "execution_count": null,
   "id": "6377929d",
   "metadata": {},
   "outputs": [],
   "source": [
    "df.describe()"
   ]
  },
  {
   "cell_type": "code",
   "execution_count": null,
   "id": "ffd22b03",
   "metadata": {},
   "outputs": [],
   "source": [
    "df.nunique()"
   ]
  },
  {
   "cell_type": "markdown",
   "id": "13f517ce",
   "metadata": {},
   "source": [
    "## Data cleaning:"
   ]
  },
  {
   "cell_type": "code",
   "execution_count": null,
   "id": "934faf2f",
   "metadata": {},
   "outputs": [],
   "source": [
    "# to check the null values:\n",
    "df.isnull().sum()"
   ]
  },
  {
   "cell_type": "code",
   "execution_count": null,
   "id": "90f94ee8",
   "metadata": {},
   "outputs": [],
   "source": [
    "# to check the duplicate values:\n",
    "df.duplicated().sum()"
   ]
  },
  {
   "cell_type": "code",
   "execution_count": null,
   "id": "0298befd",
   "metadata": {},
   "outputs": [],
   "source": [
    "df = resample(df, replace=True, n_samples=16500, random_state=42)\n"
   ]
  },
  {
   "cell_type": "markdown",
   "id": "8c35ac73",
   "metadata": {},
   "source": [
    "## Exploratory data anlaysis:"
   ]
  },
  {
   "cell_type": "code",
   "execution_count": null,
   "id": "7e780fce",
   "metadata": {},
   "outputs": [],
   "source": [
    "# count plot for adulterant column:\n",
    "sns.set(style=\"darkgrid\")\n",
    "plt.figure(figsize=(8,6))\n",
    "ax=sns.countplot(x='action_taken',data=df)\n",
    "plt.title('count plot')\n",
    "plt.xlabel('adulterant')\n",
    "plt.ylabel('count')\n",
    "for p in ax.patches:\n",
    "    ax.annotate(f'{p.get_height()}', (p.get_x() + p.get_width() / 2., p.get_height()),\n",
    "                ha='center', va='center', fontsize=10, color='black', xytext=(0, 5),\n",
    "                textcoords='offset points')\n",
    "plt.show()\n"
   ]
  },
  {
   "cell_type": "code",
   "execution_count": null,
   "id": "dd92bbfc",
   "metadata": {},
   "outputs": [],
   "source": [
    "df['action_taken'].unique()"
   ]
  },
  {
   "cell_type": "code",
   "execution_count": null,
   "id": "6e29b8b9",
   "metadata": {},
   "outputs": [],
   "source": [
    "labels=['Fine Imposed', 'Warning Issued', 'Product Recall',\n",
    "       'Investigation Launched']"
   ]
  },
  {
   "cell_type": "markdown",
   "id": "643b6ce6",
   "metadata": {},
   "source": [
    "## Label encoding:"
   ]
  },
  {
   "cell_type": "code",
   "execution_count": null,
   "id": "e29a62f9",
   "metadata": {},
   "outputs": [],
   "source": [
    "df.head()"
   ]
  },
  {
   "cell_type": "code",
   "execution_count": null,
   "id": "5f24ce8e",
   "metadata": {},
   "outputs": [],
   "source": [
    "# to convert the object type columns to numerical columns:\n",
    "le=LabelEncoder()"
   ]
  },
  {
   "cell_type": "code",
   "execution_count": null,
   "id": "df8ac997",
   "metadata": {},
   "outputs": [],
   "source": [
    "for column in df.columns:\n",
    "    if df[column].dtype == 'object':\n",
    "        df[column] = le.fit_transform(df[column])"
   ]
  },
  {
   "cell_type": "code",
   "execution_count": null,
   "id": "25c41408",
   "metadata": {},
   "outputs": [],
   "source": [
    "df.head()"
   ]
  },
  {
   "cell_type": "code",
   "execution_count": null,
   "id": "3557ecf2",
   "metadata": {},
   "outputs": [],
   "source": [
    "df.info()"
   ]
  },
  {
   "cell_type": "code",
   "execution_count": null,
   "id": "84a70caf",
   "metadata": {},
   "outputs": [],
   "source": [
    "# x and y variable separation:\n",
    "x = df.drop(columns=['action_taken'])"
   ]
  },
  {
   "cell_type": "code",
   "execution_count": null,
   "id": "69269826",
   "metadata": {},
   "outputs": [],
   "source": [
    "x"
   ]
  },
  {
   "cell_type": "code",
   "execution_count": null,
   "id": "74c7111f",
   "metadata": {},
   "outputs": [],
   "source": [
    "y = df.loc[:,'action_taken']"
   ]
  },
  {
   "cell_type": "code",
   "execution_count": null,
   "id": "1ec10369",
   "metadata": {},
   "outputs": [],
   "source": [
    "y"
   ]
  },
  {
   "cell_type": "code",
   "execution_count": null,
   "id": "1fe44928",
   "metadata": {},
   "outputs": [],
   "source": [
    "scaler = StandardScaler()"
   ]
  },
  {
   "cell_type": "code",
   "execution_count": null,
   "id": "69e7b36a",
   "metadata": {},
   "outputs": [],
   "source": [
    "x_scaled = scaler.fit_transform(x)"
   ]
  },
  {
   "cell_type": "code",
   "execution_count": null,
   "id": "97e5021e",
   "metadata": {},
   "outputs": [],
   "source": [
    "# train, test and splitting of data:"
   ]
  },
  {
   "cell_type": "code",
   "execution_count": null,
   "id": "db5e847c",
   "metadata": {},
   "outputs": [],
   "source": [
    "x_train,x_test,y_train,y_test = train_test_split(x_scaled,y,test_size=0.2,random_state=42) "
   ]
  },
  {
   "cell_type": "code",
   "execution_count": null,
   "id": "30fb93f1",
   "metadata": {},
   "outputs": [],
   "source": [
    "x_train.shape"
   ]
  },
  {
   "cell_type": "code",
   "execution_count": null,
   "id": "6444f22d",
   "metadata": {},
   "outputs": [],
   "source": [
    "y_train.shape"
   ]
  },
  {
   "cell_type": "code",
   "execution_count": null,
   "id": "4d1fab10",
   "metadata": {},
   "outputs": [],
   "source": [
    "x_test.shape"
   ]
  },
  {
   "cell_type": "code",
   "execution_count": null,
   "id": "75d26726",
   "metadata": {},
   "outputs": [],
   "source": [
    "y_test.shape"
   ]
  },
  {
   "cell_type": "markdown",
   "id": "f912a0e1",
   "metadata": {},
   "source": [
    "## Applying SMOTE:"
   ]
  },
  {
   "cell_type": "code",
   "execution_count": null,
   "id": "dfe78f86",
   "metadata": {},
   "outputs": [],
   "source": [
    "smote = SMOTE(sampling_strategy='auto', random_state=42)"
   ]
  },
  {
   "cell_type": "code",
   "execution_count": null,
   "id": "34d1f55c",
   "metadata": {},
   "outputs": [],
   "source": [
    "x_resampled, y_resampled = smote.fit_resample(x_train, y_train)"
   ]
  },
  {
   "cell_type": "code",
   "execution_count": null,
   "id": "28f1fae3",
   "metadata": {},
   "outputs": [],
   "source": [
    "print(\"Original training set shape:\", x_train.shape, y_train.shape)\n",
    "print(\"Resampled training set shape:\", x_resampled.shape, y_resampled.shape)"
   ]
  },
  {
   "cell_type": "code",
   "execution_count": null,
   "id": "b5d49dae",
   "metadata": {},
   "outputs": [],
   "source": [
    "df_resampled = pd.DataFrame(x_resampled, columns=df.columns[:-1])\n",
    "df_resampled['target'] = y_resampled\n",
    "\n",
    "# Count the occurrences of each class\n",
    "class_counts = df_resampled['target'].value_counts()\n",
    "print(\"Class distribution after applying SMOTE:\\n\", class_counts)"
   ]
  },
  {
   "cell_type": "code",
   "execution_count": null,
   "id": "15a389ce",
   "metadata": {},
   "outputs": [],
   "source": [
    "# Visualize the class distribution\n",
    "plt.figure(figsize=(10, 6))\n",
    "sns.barplot(x=class_counts.index, y=class_counts.values)\n",
    "plt.xlabel('Class')\n",
    "plt.ylabel('Frequency')\n",
    "plt.title('Class Distribution After Applying SMOTE')\n",
    "plt.show()\n"
   ]
  },
  {
   "cell_type": "markdown",
   "id": "e6ccc237",
   "metadata": {},
   "source": [
    "## Performance Metrics Evaluation:"
   ]
  },
  {
   "cell_type": "code",
   "execution_count": null,
   "id": "5890c6c0",
   "metadata": {},
   "outputs": [],
   "source": [
    "#defining global variables to store accuracy and other metrics\n",
    "precision = []\n",
    "recall = []\n",
    "fscore = []\n",
    "accuracy = []"
   ]
  },
  {
   "cell_type": "code",
   "execution_count": null,
   "id": "6fdec4e4",
   "metadata": {},
   "outputs": [],
   "source": [
    "#function to calculate various metrics such as accuracy, precision etc\n",
    "def calculateMetrics(algorithm, testY,predict):\n",
    "    testY = testY.astype('int')\n",
    "    predict = predict.astype('int')\n",
    "    p = precision_score(testY, predict,average='macro') * 100\n",
    "    r = recall_score(testY, predict,average='macro') * 100\n",
    "    f = f1_score(testY, predict,average='macro') * 100\n",
    "    a = accuracy_score(testY,predict)*100 \n",
    "    accuracy.append(a)\n",
    "    precision.append(p)\n",
    "    recall.append(r)\n",
    "    fscore.append(f)\n",
    "    print(algorithm+' Accuracy    : '+str(a))\n",
    "    print(algorithm+' Precision   : '+str(p))\n",
    "    print(algorithm+' Recall      : '+str(r))\n",
    "    print(algorithm+' FSCORE      : '+str(f))\n",
    "    report=classification_report(predict, testY,target_names=labels)\n",
    "    print('\\n',algorithm+\" classification report\\n\",report)\n",
    "    conf_matrix = confusion_matrix(testY, predict) \n",
    "    plt.figure(figsize =(5, 5)) \n",
    "    ax = sns.heatmap(conf_matrix, xticklabels = labels, yticklabels = labels, annot = True, cmap=\"Blues\" ,fmt =\"g\");\n",
    "    ax.set_ylim([0,len(labels)])\n",
    "    plt.title(algorithm+\" Confusion matrix\") \n",
    "    plt.ylabel('True class') \n",
    "    plt.xlabel('Predicted class') \n",
    "    plt.show()"
   ]
  },
  {
   "cell_type": "markdown",
   "id": "b8d9a23e",
   "metadata": {},
   "source": [
    "## Gradient Boost Classifier:"
   ]
  },
  {
   "cell_type": "code",
   "execution_count": null,
   "id": "d802d14d",
   "metadata": {},
   "outputs": [],
   "source": [
    "#gbc model:\n",
    "if os.path.exists('GradientBoostClassifier.pkl'):\n",
    "    #load the model:\n",
    "    gbc=joblib.load('GradientBoostClassifier.pkl')\n",
    "    print('model loaded successfully')\n",
    "    predict=gbc.predict(x_test)\n",
    "    calculateMetrics(\"KNeighborsClassifier\",predict,y_test)\n",
    "else:\n",
    "    #train the model:\n",
    "    gbc = GradientBoostingClassifier(n_estimators=1, learning_rate=0.74, max_depth=0.43, random_state=42,)\n",
    "    gbc.fit(x_resampled,y_resampled)\n",
    "    #saving model:\n",
    "    joblib.dump(gbc,'GradientBoostClassifier.pkl')\n",
    "    print('model saved successfully')\n",
    "    predict=gbc.predict(x_test)\n",
    "    calculateMetrics(\"GradientBoostClassifier\",predict,y_test)"
   ]
  },
  {
   "cell_type": "markdown",
   "id": "c4c8d696",
   "metadata": {},
   "source": [
    "## Knn classifier:"
   ]
  },
  {
   "cell_type": "code",
   "execution_count": null,
   "id": "981d6dcc",
   "metadata": {},
   "outputs": [],
   "source": [
    "#knn model:\n",
    "if os.path.exists('KNeighborsClassifier.pkl'):\n",
    "    #load the model:\n",
    "    knn=joblib.load('KNeighborsClassifier.pkl')\n",
    "    print('model loaded successfully')\n",
    "    predict=knn.predict(x_test)\n",
    "    calculateMetrics(\"KNeighborsClassifier\",predict,y_test)\n",
    "else:\n",
    "    #train the model:\n",
    "    knn=KNeighborsClassifier()\n",
    "    knn.fit(x_resampled,y_resampled)\n",
    "    #saving model:\n",
    "    joblib.dump(knn,'KNeighborsClassifier.pkl')\n",
    "    print('model saved successfully')\n",
    "    predict=knn.predict(x_test)\n",
    "    calculateMetrics(\"KNeighborsClassifier\",predict,y_test)"
   ]
  },
  {
   "cell_type": "code",
   "execution_count": null,
   "id": "0353b158",
   "metadata": {},
   "outputs": [],
   "source": [
    "#showing all algorithms performance values\n",
    "columns = [\"Algorithm Name\",\"Precison\",\"Recall\",\"FScore\",\"Accuracy\"]\n",
    "values = []\n",
    "algorithm_names = [\"Gradient Boost Classifier\",'KNeighbor Classifier']\n",
    "for i in range(len(algorithm_names)):\n",
    "    values.append([algorithm_names[i],precision[i],recall[i],fscore[i],accuracy[i]])\n",
    "    \n",
    "temp = pd.DataFrame(values,columns=columns)\n",
    "temp"
   ]
  },
  {
   "cell_type": "code",
   "execution_count": null,
   "id": "c105420f",
   "metadata": {},
   "outputs": [],
   "source": [
    "# importing test dataset:\n",
    "test=pd.read_csv(\"test.csv\")"
   ]
  },
  {
   "cell_type": "code",
   "execution_count": null,
   "id": "87350374",
   "metadata": {},
   "outputs": [],
   "source": [
    "test = test.drop('action_taken',axis=1)"
   ]
  },
  {
   "cell_type": "code",
   "execution_count": null,
   "id": "8ff045e2",
   "metadata": {},
   "outputs": [],
   "source": [
    "test.head()"
   ]
  },
  {
   "cell_type": "code",
   "execution_count": null,
   "id": "39970a6e",
   "metadata": {},
   "outputs": [],
   "source": [
    "test.info()"
   ]
  },
  {
   "cell_type": "code",
   "execution_count": null,
   "id": "922a6a57",
   "metadata": {},
   "outputs": [],
   "source": [
    "labels"
   ]
  },
  {
   "cell_type": "markdown",
   "id": "445c38ef",
   "metadata": {},
   "source": [
    "## Label encoding"
   ]
  },
  {
   "cell_type": "code",
   "execution_count": null,
   "id": "eaa3c1cb",
   "metadata": {},
   "outputs": [],
   "source": [
    "for column in test.columns:\n",
    "    if test[column].dtype == 'object':\n",
    "        test[column] = le.fit_transform(test[column])"
   ]
  },
  {
   "cell_type": "code",
   "execution_count": null,
   "id": "8f2443b7",
   "metadata": {},
   "outputs": [],
   "source": [
    "# Make predictions on the selected test data\n",
    "predict = knn.predict(test)\n",
    "# Loop through each prediction and print the corresponding row\n",
    "for i, p in enumerate(predict):\n",
    "    if p == 0:\n",
    "        print(test.iloc[i])\n",
    "        print(\"Row {}:************************************************** Fine Imposed \".format(i))\n",
    "    elif p==1:\n",
    "        print(test.iloc[i])\n",
    "        print(\"Row {}:************************************************** Warning Issued\".format(i))\n",
    "    elif p==2:\n",
    "        print(test.iloc[i])\n",
    "        print(\"Row {}:************************************************** Product Recall\".format(i))\n",
    "    elif p==3:\n",
    "        print(test.iloc[i])\n",
    "        print(\"Row {}:************************************************** Investigation Launched\".format(i))\n",
    "   \n",
    "   "
   ]
  },
  {
   "cell_type": "code",
   "execution_count": null,
   "id": "23b34f9d",
   "metadata": {},
   "outputs": [],
   "source": [
    "test['predict']=predict"
   ]
  },
  {
   "cell_type": "code",
   "execution_count": null,
   "id": "4e04c7cc",
   "metadata": {},
   "outputs": [],
   "source": [
    "test"
   ]
  },
  {
   "cell_type": "code",
   "execution_count": null,
   "id": "bf48d786",
   "metadata": {},
   "outputs": [],
   "source": [
    "mapping = {0: 'Fine Imposed', 1: 'Warning Issued', 2: 'Product Recall', 3: 'Investigation Launched'}"
   ]
  },
  {
   "cell_type": "code",
   "execution_count": null,
   "id": "e447d1b4",
   "metadata": {},
   "outputs": [],
   "source": [
    "test['predict'] = test['predict'].map(mapping)"
   ]
  },
  {
   "cell_type": "code",
   "execution_count": null,
   "id": "08073a9b",
   "metadata": {},
   "outputs": [],
   "source": [
    "test"
   ]
  },
  {
   "cell_type": "code",
   "execution_count": null,
   "id": "7680a449",
   "metadata": {},
   "outputs": [],
   "source": []
  }
 ],
 "metadata": {
  "kernelspec": {
   "display_name": "Python 3 (ipykernel)",
   "language": "python",
   "name": "python3"
  },
  "language_info": {
   "codemirror_mode": {
    "name": "ipython",
    "version": 3
   },
   "file_extension": ".py",
   "mimetype": "text/x-python",
   "name": "python",
   "nbconvert_exporter": "python",
   "pygments_lexer": "ipython3",
   "version": "3.7.6"
  }
 },
 "nbformat": 4,
 "nbformat_minor": 5
}
